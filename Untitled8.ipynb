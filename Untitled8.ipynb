{
  "nbformat": 4,
  "nbformat_minor": 0,
  "metadata": {
    "colab": {
      "provenance": []
    },
    "kernelspec": {
      "name": "python3",
      "display_name": "Python 3"
    },
    "language_info": {
      "name": "python"
    }
  },
  "cells": [
    {
      "cell_type": "code",
      "execution_count": null,
      "metadata": {
        "colab": {
          "base_uri": "https://localhost:8080/"
        },
        "id": "9rRGPrbjz8qE",
        "outputId": "21b8288d-99ff-4398-8d10-9fd50251693d"
      },
      "outputs": [
        {
          "output_type": "stream",
          "name": "stdout",
          "text": [
            "Card 1: 7\n",
            "Card2: 13\n",
            "Player 2 wins!\n"
          ]
        }
      ],
      "source": [
        "import random\n",
        "\n",
        "card1 = random.randint(1, 13)\n",
        "card2 = random.randint(1, 13)\n",
        "\n",
        "print(\"Card 1:\", card1)\n",
        "print(\"Card2:\", card2)\n",
        "\n",
        "if card1 >card2:\n",
        "  print(\"Player 1 wins!\")\n",
        "elif card2 >card1:\n",
        "  print(\"Player 2 wins!\")\n",
        "else:\n",
        "  print(\"It's a tie!\")"
      ]
    }
  ]
}