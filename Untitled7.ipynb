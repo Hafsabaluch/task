{
  "nbformat": 4,
  "nbformat_minor": 0,
  "metadata": {
    "colab": {
      "provenance": []
    },
    "kernelspec": {
      "name": "python3",
      "display_name": "Python 3"
    },
    "language_info": {
      "name": "python"
    }
  },
  "cells": [
    {
      "cell_type": "code",
      "execution_count": null,
      "metadata": {
        "colab": {
          "base_uri": "https://localhost:8080/"
        },
        "id": "0l4MX59ZwdpV",
        "outputId": "7f6bf014-ddbb-4d14-ffa6-cc23368a84d4"
      },
      "outputs": [
        {
          "output_type": "stream",
          "name": "stdout",
          "text": [
            "Enterthe player's name: Jos buttler\n",
            "Enter the number of matches played: 24\n",
            "Enter  the total runs scored 120\n",
            "Enter the total wickets taken (0 if not a bowler): 2\n",
            "Jos buttler is a valuable team player.\n"
          ]
        }
      ],
      "source": [
        "player_name = input(\"Enterthe player's name: \")\n",
        "matches_played = int(input(\"Enter the number of matches played: \"))\n",
        "runs_scored = int(input(\"Enter  the total runs scored \"))\n",
        "wickets_taken = int(input(\"Enter the total wickets taken (0 if not a bowler): \"))\n",
        "\n",
        "batting_average = runs_scored / matches_played if matches_played > 0 else 0\n",
        "\n",
        "if matches_played >= 50 and batting_average >= 50:\n",
        "  print(f\"{player_name} is a world-class batsman!\")\n",
        "elif matches_played >= 30 and batting_average >=40:\n",
        "  print(f\"{player_name} is a promising batsman.\")\n",
        "elif wickets_taken >= 50:\n",
        "  print(f\"{player_name} is a successful bowler!\")\n",
        "elif wickets_taken >= 20:\n",
        "  print(f\"{player_name} is a developing bowler.\")\n",
        "else:\n",
        "  print(f\"{player_name} is a valuable team player.\")\n"
      ]
    }
  ]
}